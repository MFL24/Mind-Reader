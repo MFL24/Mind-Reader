{
 "cells": [
  {
   "cell_type": "code",
   "execution_count": 3,
   "metadata": {
    "collapsed": true,
    "jupyter": {
     "outputs_hidden": true
    }
   },
   "outputs": [],
   "source": [
    "def get_Data(queue):\n",
    "    # set window parameters\n",
    "    nSamples_Window = 128\n",
    "    step = 64\n",
    "    \n",
    "    # start streaming \n",
    "    print(\"Looking for an LSL stream...\")\n",
    "    try: \n",
    "        streams = resolve_stream('type', 'EEG')\n",
    "        inlet = StreamInlet(streams[0])\n",
    "        print(\"Connected to stream. Now receiving data...\")\n",
    "    except:\n",
    "        raise ValueError('No Stream founded')\n",
    "\n",
    "    # initialize arrays\n",
    "    timestamp = np.zeros(nSamples_Window)\n",
    "    sample = np.zeros((15,nSamples_Window))\n",
    "    # initialize count variable for number of generated windows\n",
    "    count = 0\n",
    "    i = 0\n",
    "    # Acquiring data stream from OpenVIBE\n",
    "    while True:\n",
    "        # Get channel data at certain timestamp\n",
    "        sample_tempt, timestamp_tempt= inlet.pull_sample()\n",
    "        # check if window is fully acquired\n",
    "        if i%step== 0 and i!=0 and i!=step:\n",
    "            count += 1 # a window is generated\n",
    "            queue.put((timestamp,sample)) # put window data into queue\n",
    "            sample = np.roll(sample,-step,axis=1) # shift the window for overlapping\n",
    "            timestamp = np.roll(timestamp,-step,axis=1) # shift the time vector for overlapping\n",
    "        # write stream data\n",
    "        sample[:,i-step*count]=sample_tempt\n",
    "        timestamp[:,i-step*count]=timestamp_tempt\n",
    "        i += 1"
   ]
  }
 ],
 "metadata": {
  "kernelspec": {
   "display_name": "Python 3 (ipykernel)",
   "language": "python",
   "name": "python3"
  },
  "language_info": {
   "codemirror_mode": {
    "name": "ipython",
    "version": 3
   },
   "file_extension": ".py",
   "mimetype": "text/x-python",
   "name": "python",
   "nbconvert_exporter": "python",
   "pygments_lexer": "ipython3",
   "version": "3.11.7"
  }
 },
 "nbformat": 4,
 "nbformat_minor": 4
}
