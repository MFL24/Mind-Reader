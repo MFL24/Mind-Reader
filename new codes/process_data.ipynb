{
 "cells": [
  {
   "cell_type": "code",
   "execution_count": 5,
   "metadata": {},
   "outputs": [],
   "source": [
    "import numpy as np\n",
    "from concurrent.futures import ProcessPoolExecutor, as_completed\n",
    "import multiprocessing as mp\n",
    "import time\n",
    "from queue import Queue\n",
    "from scipy.signal import cheby2, cheb2ord, filtfilt\n",
    "from scipy.fftpack import fft, fftfreq\n",
    "\n",
    "def cheby2_bandpass_filter(data, fs, wp, ws, gpass=3, gstop=60, rs=60, btype='bandpass'):\n",
    "    wp = [wp[0] / (fs / 2), wp[1] / (fs / 2)]\n",
    "    ws = [ws[0] / (fs / 2), ws[1] / (fs / 2)]\n",
    "    N, Wn = cheb2ord(wp, ws, gpass, gstop)  # 计算order和归一化截止频率\n",
    "    b, a = cheby2(N, rs, Wn, btype)  # 设计Chebyshev II滤波器\n",
    "    data_preprocessed = filtfilt(b, a, data)  # 使用滤波器对数据进行滤波\n",
    "    return data_preprocessed\n",
    "\n",
    "def band_amplitude_calc(data, fs, band_ranges):\n",
    "    ######################### fft部分重复，可模块化\n",
    "    L = data.shape[1]\n",
    "    # 计算信号的FFT\n",
    "    data_fft = fft(data)\n",
    "    # 计算频率轴\n",
    "    freqs = fftfreq(len(data), 1/fs)\n",
    "    \n",
    "    # 仅保留单边频谱\n",
    "    data_fft = 2*np.abs(data_fft[:len(data_fft)//2])/L\n",
    "    freqs = freqs[:len(freqs)//2]\n",
    "    ###########################\n",
    "    \n",
    "    # 计算每个频段的总幅度\n",
    "    band_amplitudes = {}\n",
    "    for band_name, (low, high) in band_ranges.items():\n",
    "        band_mask = (freqs >= low) & (freqs <= high) # Bool type \n",
    "        band_amplitudes[band_name] = np.sum(2 * np.abs(data_fft[band_mask]))\n",
    "    \n",
    "    return band_amplitudes\n",
    "\n",
    "def process(data, fs, band_ranges, filter_params):\n",
    "    filtered_data = cheby2_bandpass_filter(data, fs, *filter_params)\n",
    "    feature = band_amplitude_calc(filtered_data, fs, band_ranges)\n",
    "    return (filtered_data,feature)\n",
    "\n",
    "def process_data(queue_raw,queue_filter, fs, filter_params, band_ranges):\n",
    "    while True:\n",
    "        if not queue_raw.empty():\n",
    "            # 获取新的数据窗口\n",
    "            raw_data = queue_raw.get()\n",
    "            # 提交新任务到进程池\n",
    "            result = process(raw_data, fs, filter_params, band_ranges)\n",
    "            queue_filter.put((raw_data,result[0]))\n",
    "            "
   ]
  }
 ],
 "metadata": {
  "kernelspec": {
   "display_name": "Python 2",
   "language": "python",
   "name": "python2"
  },
  "language_info": {
   "codemirror_mode": {
    "name": "ipython",
    "version": 2
   },
   "file_extension": ".py",
   "mimetype": "text/x-python",
   "name": "python",
   "nbconvert_exporter": "python",
   "pygments_lexer": "ipython2",
   "version": "2.7.13"
  }
 },
 "nbformat": 4,
 "nbformat_minor": 2
}
