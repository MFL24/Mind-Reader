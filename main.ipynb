{
 "cells": [
  {
   "cell_type": "code",
   "execution_count": 1,
   "metadata": {},
   "outputs": [
    {
     "ename": "ModuleNotFoundError",
     "evalue": "No module named 'pylsl'",
     "output_type": "error",
     "traceback": [
      "\u001b[1;31m---------------------------------------------------------------------------\u001b[0m",
      "\u001b[1;31mModuleNotFoundError\u001b[0m                       Traceback (most recent call last)",
      "Cell \u001b[1;32mIn[1], line 1\u001b[0m\n\u001b[1;32m----> 1\u001b[0m \u001b[38;5;28;01mfrom\u001b[39;00m \u001b[38;5;21;01mpylsl\u001b[39;00m \u001b[38;5;28;01mimport\u001b[39;00m StreamInlet, resolve_stream\n\u001b[0;32m      2\u001b[0m \u001b[38;5;28;01mimport\u001b[39;00m \u001b[38;5;21;01mtime\u001b[39;00m\n\u001b[0;32m      3\u001b[0m \u001b[38;5;28;01mimport\u001b[39;00m \u001b[38;5;21;01mnumpy\u001b[39;00m \u001b[38;5;28;01mas\u001b[39;00m \u001b[38;5;21;01mnp\u001b[39;00m\n",
      "\u001b[1;31mModuleNotFoundError\u001b[0m: No module named 'pylsl'"
     ]
    }
   ],
   "source": [
    "from pylsl import StreamInlet, resolve_stream\n",
    "import time\n",
    "import numpy as np\n",
    "import matplotlib.pyplot as plt\n",
    "import multiprocessing as mp\n",
    "import time\n",
    "from scipy.signal import cheb2ord, cheby2, filtfilt\n",
    "from get_data import get_Data\n",
    "from process_data import process_data"
   ]
  },
  {
   "cell_type": "code",
   "execution_count": 19,
   "metadata": {
    "collapsed": true,
    "jupyter": {
     "outputs_hidden": true
    }
   },
   "outputs": [],
   "source": [
    "# set filter parameters\n",
    "fs = 128  # 采样率\n",
    "band_ranges = {\n",
    "    'blink': (6, 10),\n",
    "    'chew': (18, 25)\n",
    "}\n",
    "filter_params = ([5, 27], [4, 28])  # 示例滤波器参数\n",
    "\n",
    "# create 2 queues for data transfer, queue is shared between processes.\n",
    "queue_raw = mp.Queue()\n",
    "queue_filter = mp.Queue()\n",
    "\n",
    "# create 3 processes\n",
    "process_getData = mp.Process(target = get_Data, args=(queue_raw,))\n",
    "# process_processData = mp.Process(target = process_data, args=(queue_raw,queue_filter,fs, filter_params,band_ranges,))\n",
    "\n",
    "\n",
    "process_getData.start()\n",
    "# process_processData.start()\n",
    "\n",
    "process_getData.join()\n",
    "# process_processData.join()\n"
   ]
  }
 ],
 "metadata": {
  "kernelspec": {
   "display_name": "Python 3 (ipykernel)",
   "language": "python",
   "name": "python3"
  },
  "language_info": {
   "codemirror_mode": {
    "name": "ipython",
    "version": 3
   },
   "file_extension": ".py",
   "mimetype": "text/x-python",
   "name": "python",
   "nbconvert_exporter": "python",
   "pygments_lexer": "ipython3",
   "version": "3.11.7"
  }
 },
 "nbformat": 4,
 "nbformat_minor": 4
}
